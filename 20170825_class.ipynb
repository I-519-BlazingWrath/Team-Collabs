{
 "cells": [
  {
   "cell_type": "code",
   "execution_count": null,
   "metadata": {
    "collapsed": true
   },
   "outputs": [],
   "source": [
    "from random import randint\n",
    "\n",
    "seq=''\n",
    "length=10#l of the genome...\n",
    "M=4#alphabet size\n",
    "for i in range(length):\n",
    "    seq+=str(randint(1,M))\n",
    "print(seq)\n",
    "#evthing makes sense so far\n",
    "\n",
    "##Seq of chars\n",
    "\n"
   ]
  },
  {
   "cell_type": "code",
   "execution_count": null,
   "metadata": {
    "collapsed": true
   },
   "outputs": [],
   "source": [
    "seq=''\n",
    "ab={1:\"A\",2:\"C\",3:\"G\",4:\"T\"}\n",
    "for i in range(length):\n",
    "    seq+=ab[randint(1,M)]\n",
    "print(seq)"
   ]
  },
  {
   "cell_type": "markdown",
   "metadata": {},
   "source": [
    "# We next wanted to use randint where the GC content is not uniform. This is a common problem, needing to generate a random sequence withgiven composition.\n",
    "This all makes a lot of sense so far."
   ]
  },
  {
   "cell_type": "code",
   "execution_count": null,
   "metadata": {
    "collapsed": true
   },
   "outputs": [],
   "source": [
    "from random import randint\n",
    "\n",
    "seq=''\n",
    "\n",
    "for i in range(length):\n",
    "    roll = random():\n",
    "        if roll <0.15:\n",
    "            seq+=\"A\"\n",
    "        elif roll <0.4:\n",
    "            seq+=\"C\"\n",
    "        elif roll<0.5:\n",
    "            seq+=\"G\"\n",
    "        else:\n",
    "            seq+=\"T\"\n",
    "#this is easy to read, but do note that there is probably a faster way to compute it; AND this code cannot easily be reused"
   ]
  },
  {
   "cell_type": "code",
   "execution_count": null,
   "metadata": {
    "collapsed": true
   },
   "outputs": [],
   "source": [
    "#let's generalize the code a bit more\n",
    "def makeRandomSeq(composition,length=0):\n",
    "    \n",
    "    # composition = {\"A\":.15, \"C\":.25, \"G\":.1,\"T\":.5}\n",
    "    seq=''\n",
    "    ab=composition.keys()\n",
    "\n",
    "    bound=0\n",
    "    bounds=[]\n",
    "    for char in ab:\n",
    "        bound+=composition[char]\n",
    "        bounds.append(bound)\n",
    "    print(bounds)\n",
    "\n",
    "    assert 0.99<bounds[-1]<1.01#sanity check. add this to your 567 code...This saves you from spending months try to interpp\n",
    "    #a garbage output    If this fails, it will spit out an assertion error and refuse to run---thereby avoiding spewing bogus\n",
    "    #input\n",
    "\n",
    "    for i in range(length):\n",
    "        roll=random()\n",
    "        for char,bound in zip(alphabet,bounds)#<--LEARN HOW TO USE ZIP, DUDE\n",
    "            if roll<=bound:\n",
    "                seq+=char\n",
    "                break#once you find that it is a C, don't ALSO add a G and a T\n",
    "    print(seq)"
   ]
  },
  {
   "cell_type": "code",
   "execution_count": null,
   "metadata": {
    "collapsed": true
   },
   "outputs": [],
   "source": [
    "#Then we learned how to write out to a fasta file\n",
    "#we will use Biopython to parse fasta. we ARE allowed to use biopython for this class\n",
    "\n",
    "from Bio import Seq #different 'container' than a String\n",
    "from Bio import SeqIO\n",
    "composition = {}#whatever it is###############################\n",
    "seq=Seq(MakeRandomSequence(composition,1000))\n",
    "record=SeqIO.SeqRecrod( sequence, 'random_sequence')\n",
    "SeqIO.write(record,'random.fasta','fasta')"
   ]
  }
 ],
 "metadata": {
  "kernelspec": {
   "display_name": "Python 3",
   "language": "python",
   "name": "python3"
  },
  "language_info": {
   "codemirror_mode": {
    "name": "ipython",
    "version": 3
   },
   "file_extension": ".py",
   "mimetype": "text/x-python",
   "name": "python",
   "nbconvert_exporter": "python",
   "pygments_lexer": "ipython3",
   "version": "3.6.2"
  }
 },
 "nbformat": 4,
 "nbformat_minor": 2
}
